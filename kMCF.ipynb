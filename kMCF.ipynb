{
 "cells": [
  {
   "cell_type": "code",
   "execution_count": 1,
   "id": "5246bfe4-388f-4c49-b6d9-248ffffe903c",
   "metadata": {},
   "outputs": [
    {
     "name": "stdout",
     "output_type": "stream",
     "text": [
      "Group k1 is : [[20, 500], (18, 300)]\n",
      "Group k2 is : [[40, 1000], (30, 800), (28, 1200), (35, 1400), (45, 1800)]\n"
     ]
    }
   ],
   "source": [
    "import math\n",
    "Age=[20,40,30,18,28,35,45]\n",
    "amount=[500,1000,800,300,1200,1400,1800]\n",
    "k1=[]\n",
    "k2=[]\n",
    "k1= list((Age[0], amount[0]))\n",
    "k2=list((Age[1], amount[1]))\n",
    "k11=[]\n",
    "k11.append(k1)\n",
    "k22=[]\n",
    "k22.append(k2)\n",
    "for index in range(2,7):  \n",
    "    point = [Age[index], amount[index]]\n",
    "    \n",
    "    dis_to_k1 = math.sqrt((point[0] - k1[0]) ** 2 + (point[1] - k1[1]) ** 2)\n",
    "    \n",
    "    dis_to_k2 = math.sqrt((point[0] - k2[0]) ** 2 + (point[1] - k2[1]) ** 2)\n",
    "    \n",
    "    if dis_to_k2<dis_to_k1:\n",
    "        c=(Age[index]+k2[0])/2\n",
    "        d=(amount[index]+k2[1])/2        \n",
    "        k22.append((Age[index],amount[index]))\n",
    "        k2=list((c, d))\n",
    "    else:\n",
    "        c=(Age[index]+k1[0])/2\n",
    "        d=(amount[index]+k1[1])/2  \n",
    "        k11.append((Age[index],amount[index]))\n",
    "        k1=list((c, d))        \n",
    "       \n",
    "        \n",
    "print(\"Group k1 is :\",k11)\n",
    "print(\"Group k2 is :\",k22)\n",
    "        "
   ]
  },
  {
   "cell_type": "code",
   "execution_count": null,
   "id": "a5b4c154-8c44-4e36-99f7-909b30325149",
   "metadata": {},
   "outputs": [],
   "source": []
  }
 ],
 "metadata": {
  "kernelspec": {
   "display_name": "Python 3 (ipykernel)",
   "language": "python",
   "name": "python3"
  },
  "language_info": {
   "codemirror_mode": {
    "name": "ipython",
    "version": 3
   },
   "file_extension": ".py",
   "mimetype": "text/x-python",
   "name": "python",
   "nbconvert_exporter": "python",
   "pygments_lexer": "ipython3",
   "version": "3.12.7"
  }
 },
 "nbformat": 4,
 "nbformat_minor": 5
}
